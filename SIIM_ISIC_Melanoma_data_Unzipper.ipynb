{
  "nbformat": 4,
  "nbformat_minor": 0,
  "metadata": {
    "colab": {
      "name": "SIIM-ISIC Melanoma_data_Unzipper.ipynb",
      "provenance": [],
      "authorship_tag": "ABX9TyNnbMUBl5KNQeJYsCPiWSo9",
      "include_colab_link": true
    },
    "kernelspec": {
      "name": "python3",
      "display_name": "Python 3"
    }
  },
  "cells": [
    {
      "cell_type": "markdown",
      "metadata": {
        "id": "view-in-github",
        "colab_type": "text"
      },
      "source": [
        "<a href=\"https://colab.research.google.com/github/HeshanDissanayake/SIIM_ISIC_melanoma_classification/blob/main/SIIM_ISIC_Melanoma_data_Unzipper.ipynb\" target=\"_parent\"><img src=\"https://colab.research.google.com/assets/colab-badge.svg\" alt=\"Open In Colab\"/></a>"
      ]
    },
    {
      "cell_type": "code",
      "metadata": {
        "id": "eUq2SEWpnhkK",
        "colab": {
          "base_uri": "https://localhost:8080/",
          "height": 82
        },
        "outputId": "cad44c01-5bf9-4794-efe3-e46403a3f420"
      },
      "source": [
        "!curl 'https://storage.googleapis.com/kaggle-competitions-data/kaggle-v2/20270/1222630/compressed/train.zip?GoogleAccessId=web-data@kaggle-161607.iam.gserviceaccount.com&Expires=1591281876&Signature=GJpKQrsUHCaPI6Y5BYDd5srpeatCZVIfWDEL1my2dCTVcT9ahRF5BJy%2FA%2Fa27TiJnxSRkHNH80OD74n9LDIJp1Oa3uDQBUBMW3fCR9Mt0aaQU%2B5vhY459ev1o%2BiMhCqJ%2BvBK9qyyxA7DHHE8CsznDtx1wHRvJ%2BK5x7LRdKNeDK33%2BWYaOlhnFxYm5k2TUosLEollCrUJdzE8P0OBP0IR3kueWUzWpuv3BeGP0sRNZ0VoOZTPHKS55tAW77%2BwtW%2FQ9mxM%2FwasN77tsXcgJ3b3JmBrKX69wrmRjX8JcsNI4xNLKiv8MDXBz4LxaBJAN1jq6HTZwikBzVWiEtu8x%2BNKvg%3D%3D&response-content-disposition=attachment%3B+filename%3Dtrain.zip' -H 'User-Agent: Mozilla/5.0 (X11; Ubuntu; Linux x86_64; rv:76.0) Gecko/20100101 Firefox/76.0' -H 'Accept: text/html,application/xhtml+xml,application/xml;q=0.9,image/webp,*/*;q=0.8' -H 'Accept-Language: en-US,en;q=0.5' --compressed -H 'Referer: https://www.kaggle.com/' -H 'Connection: keep-alive' -H 'Cookie: cuntwars_user_id=xXNhMHwAmW; _ga=GA1.3.1485321816.1568920993' -H 'Upgrade-Insecure-Requests: 1' -H 'TE: Trailers'  -o train.zip"
      ],
      "execution_count": null,
      "outputs": [
        {
          "output_type": "stream",
          "text": [
            "  % Total    % Received % Xferd  Average Speed   Time    Time     Time  Current\n",
            "                                 Dload  Upload   Total   Spent    Left  Speed\n",
            " 92 48.9G   92 45.4G    0     0  58.8M      0  0:14:12  0:13:10  0:01:02 55.2M"
          ],
          "name": "stdout"
        }
      ]
    },
    {
      "cell_type": "code",
      "metadata": {
        "id": "4SfEwRY0mdA-",
        "colab": {
          "base_uri": "https://localhost:8080/",
          "height": 371
        },
        "outputId": "93a3eb03-5df2-4379-9df4-757ed37db047"
      },
      "source": [
        "import zipfile\n",
        "import time\n",
        "zip_file = zipfile.ZipFile(\"train.zip\",'r')\n",
        "# /content/drive/My Drive/cancer6\n",
        "names = zip_file.namelist()[1:]\n",
        "\n",
        "print(\"namelist aqquired\")\n",
        "print(len(names))\n",
        "\n",
        "def chunkIt(seq, num):\n",
        "    avg = len(seq) / float(num)\n",
        "    out = []\n",
        "    last = 0.0\n",
        "\n",
        "    while last < len(seq):\n",
        "        out.append(seq[int(last):int(last + avg)])\n",
        "        last += avg\n",
        "\n",
        "    return out\n",
        "i = 0\n",
        "print ('%s' % (names[0]))\n",
        "zip_file.extract(names[0] )\n",
        "print(chunkIt(names,1000))\n",
        "for item in chunkIt(names,10):\n",
        "    print(\"itr \"+str(i))\n",
        "    # print ('%s' % (item[i][i]))\n",
        "\n",
        "    for img in item:\n",
        "      print ('%s' % (item[i]))\n",
        "      \n",
        "      zip_file.extract(img , \"/content/drive/My Drive/camcer1\")\n",
        "    print(\"end itr \"+str(i))\n",
        "    print(\"sleep for 400 \")\n",
        "    time.sleep(350)\n",
        "    i = i+1\n",
        "\n",
        "\n",
        "print(\"done----------------- \")\n",
        "\n",
        "zip_file.close()"
      ],
      "execution_count": null,
      "outputs": [
        {
          "output_type": "error",
          "ename": "FileNotFoundError",
          "evalue": "ignored",
          "traceback": [
            "\u001b[0;31m---------------------------------------------------------------------------\u001b[0m",
            "\u001b[0;31mFileNotFoundError\u001b[0m                         Traceback (most recent call last)",
            "\u001b[0;32m<ipython-input-1-14ccda13795c>\u001b[0m in \u001b[0;36m<module>\u001b[0;34m()\u001b[0m\n\u001b[1;32m      1\u001b[0m \u001b[0;32mimport\u001b[0m \u001b[0mzipfile\u001b[0m\u001b[0;34m\u001b[0m\u001b[0;34m\u001b[0m\u001b[0m\n\u001b[1;32m      2\u001b[0m \u001b[0;32mimport\u001b[0m \u001b[0mtime\u001b[0m\u001b[0;34m\u001b[0m\u001b[0;34m\u001b[0m\u001b[0m\n\u001b[0;32m----> 3\u001b[0;31m \u001b[0mzip_file\u001b[0m \u001b[0;34m=\u001b[0m \u001b[0mzipfile\u001b[0m\u001b[0;34m.\u001b[0m\u001b[0mZipFile\u001b[0m\u001b[0;34m(\u001b[0m\u001b[0;34m\"train.zip\"\u001b[0m\u001b[0;34m,\u001b[0m\u001b[0;34m'r'\u001b[0m\u001b[0;34m)\u001b[0m\u001b[0;34m\u001b[0m\u001b[0;34m\u001b[0m\u001b[0m\n\u001b[0m\u001b[1;32m      4\u001b[0m \u001b[0;31m# /content/drive/My Drive/cancer6\u001b[0m\u001b[0;34m\u001b[0m\u001b[0;34m\u001b[0m\u001b[0;34m\u001b[0m\u001b[0m\n\u001b[1;32m      5\u001b[0m \u001b[0mnames\u001b[0m \u001b[0;34m=\u001b[0m \u001b[0mzip_file\u001b[0m\u001b[0;34m.\u001b[0m\u001b[0mnamelist\u001b[0m\u001b[0;34m(\u001b[0m\u001b[0;34m)\u001b[0m\u001b[0;34m[\u001b[0m\u001b[0;36m1\u001b[0m\u001b[0;34m:\u001b[0m\u001b[0;34m]\u001b[0m\u001b[0;34m\u001b[0m\u001b[0;34m\u001b[0m\u001b[0m\n",
            "\u001b[0;32m/usr/lib/python3.6/zipfile.py\u001b[0m in \u001b[0;36m__init__\u001b[0;34m(self, file, mode, compression, allowZip64)\u001b[0m\n\u001b[1;32m   1111\u001b[0m             \u001b[0;32mwhile\u001b[0m \u001b[0;32mTrue\u001b[0m\u001b[0;34m:\u001b[0m\u001b[0;34m\u001b[0m\u001b[0;34m\u001b[0m\u001b[0m\n\u001b[1;32m   1112\u001b[0m                 \u001b[0;32mtry\u001b[0m\u001b[0;34m:\u001b[0m\u001b[0;34m\u001b[0m\u001b[0;34m\u001b[0m\u001b[0m\n\u001b[0;32m-> 1113\u001b[0;31m                     \u001b[0mself\u001b[0m\u001b[0;34m.\u001b[0m\u001b[0mfp\u001b[0m \u001b[0;34m=\u001b[0m \u001b[0mio\u001b[0m\u001b[0;34m.\u001b[0m\u001b[0mopen\u001b[0m\u001b[0;34m(\u001b[0m\u001b[0mfile\u001b[0m\u001b[0;34m,\u001b[0m \u001b[0mfilemode\u001b[0m\u001b[0;34m)\u001b[0m\u001b[0;34m\u001b[0m\u001b[0;34m\u001b[0m\u001b[0m\n\u001b[0m\u001b[1;32m   1114\u001b[0m                 \u001b[0;32mexcept\u001b[0m \u001b[0mOSError\u001b[0m\u001b[0;34m:\u001b[0m\u001b[0;34m\u001b[0m\u001b[0;34m\u001b[0m\u001b[0m\n\u001b[1;32m   1115\u001b[0m                     \u001b[0;32mif\u001b[0m \u001b[0mfilemode\u001b[0m \u001b[0;32min\u001b[0m \u001b[0mmodeDict\u001b[0m\u001b[0;34m:\u001b[0m\u001b[0;34m\u001b[0m\u001b[0;34m\u001b[0m\u001b[0m\n",
            "\u001b[0;31mFileNotFoundError\u001b[0m: [Errno 2] No such file or directory: 'train.zip'"
          ]
        }
      ]
    }
  ]
}
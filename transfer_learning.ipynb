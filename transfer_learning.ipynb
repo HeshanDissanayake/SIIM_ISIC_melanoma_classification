{
  "nbformat": 4,
  "nbformat_minor": 0,
  "metadata": {
    "colab": {
      "name": "transfer_learning.ipynb",
      "provenance": [],
      "collapsed_sections": [],
      "mount_file_id": "1aNLqHuopaSshBYohNtCLLMlAiYrkXG36",
      "authorship_tag": "ABX9TyNMCydChNWx5VgeQjiR81yI",
      "include_colab_link": true
    },
    "kernelspec": {
      "name": "python3",
      "display_name": "Python 3"
    },
    "accelerator": "GPU"
  },
  "cells": [
    {
      "cell_type": "markdown",
      "metadata": {
        "id": "view-in-github",
        "colab_type": "text"
      },
      "source": [
        "<a href=\"https://colab.research.google.com/github/HeshanDissanayake/SIIM_ISIC_melanoma_classification/blob/main/transfer_learning.ipynb\" target=\"_parent\"><img src=\"https://colab.research.google.com/assets/colab-badge.svg\" alt=\"Open In Colab\"/></a>"
      ]
    },
    {
      "cell_type": "code",
      "metadata": {
        "id": "n5w_pOKZYRPf",
        "colab": {
          "base_uri": "https://localhost:8080/",
          "height": 72
        },
        "outputId": "c8dee4e0-0512-499f-bfe4-9ca663706388"
      },
      "source": [
        "import os\n",
        "import sys\n",
        "import numpy as np\n",
        "import pandas as pd\n",
        "import matplotlib.pyplot as plt\n",
        "import seaborn as sns\n",
        "import random\n",
        "import cv2\n",
        "from tensorflow.keras.preprocessing.image import ImageDataGenerator\n",
        "from shutil import copy\n",
        "from tensorflow.keras.layers import Input, Conv2D, MaxPooling2D, UpSampling2D, add, Dropout, Flatten, Dense, Reshape, GlobalAveragePooling2D, BatchNormalization\n",
        "from tensorflow.keras.models import Model\n",
        "from zipfile import ZipFile\n",
        "import sys\n",
        "from tensorflow.keras.models import Sequential, load_model\n",
        "from  tensorflow import keras\n",
        "from sklearn.metrics import roc_curve, roc_auc_score"
      ],
      "execution_count": null,
      "outputs": [
        {
          "output_type": "stream",
          "text": [
            "/usr/local/lib/python3.6/dist-packages/statsmodels/tools/_testing.py:19: FutureWarning: pandas.util.testing is deprecated. Use the functions in the public API at pandas.testing instead.\n",
            "  import pandas.util.testing as tm\n"
          ],
          "name": "stderr"
        }
      ]
    },
    {
      "cell_type": "code",
      "metadata": {
        "id": "525froIobX_C",
        "colab": {
          "base_uri": "https://localhost:8080/",
          "height": 69
        },
        "outputId": "aab00c6c-12c1-40be-f70c-44572092ce21"
      },
      "source": [
        "!curl 'https://storage.googleapis.com/kaggle-data-sets/687793%2F1205903%2Fbundle%2Farchive.zip?GoogleAccessId=gcp-kaggle-com@kaggle-161607.iam.gserviceaccount.com&Expires=1593229896&Signature=oakT8hz1SQZhsRS9vEDJPB%2Fb%2F1vZt33Eb3qlj9QRDxDy0I7DVyu1HJzvo9m8gZCLoVrALkUwI5Ww3M5udSyZcOdcx7R30Le6RaGIh6mizPRRYpAIgtr2%2Bi5ERAPmXsbRrHFHbeSLuU0FhLYmixbJCSYyHeIFMO5YnjJX9wvG%2BjZ1C2YwNdD1MCdBiDVkjynCOErxa4V240zSZzynUt3gMjbtElg%2BDMHHnNO%2Fn4Xmt3JBMbhaUh58gvZWQkibMcbq2PL50ZSt8JtD1dkbmL0udyxWcDbnJMfYAewArlia7Qrnu5dBLmxMJ4HqZsohe%2BZ96mIlOfa82DprmuRCS2BAfA%3D%3D' -H 'User-Agent: Mozilla/5.0 (X11; Ubuntu; Linux x86_64; rv:77.0) Gecko/20100101 Firefox/77.0' -H 'Accept: text/html,application/xhtml+xml,application/xml;q=0.9,image/webp,*/*;q=0.8' -H 'Accept-Language: en-US,en;q=0.5' --compressed -H 'Referer: https://www.kaggle.com/' -H 'Connection: keep-alive' -H 'Cookie: cuntwars_user_id=xXNhMHwAmW; _ga=GA1.3.1485321816.1568920993' -H 'Upgrade-Insecure-Requests: 1' -H 'TE: Trailers' -o cancer.zip"
      ],
      "execution_count": null,
      "outputs": [
        {
          "output_type": "stream",
          "text": [
            "  % Total    % Received % Xferd  Average Speed   Time    Time     Time  Current\n",
            "                                 Dload  Upload   Total   Spent    Left  Speed\n",
            "100 2021M  100 2021M    0     0  91.6M      0  0:00:22  0:00:22 --:--:-- 44.4M\n"
          ],
          "name": "stdout"
        }
      ]
    },
    {
      "cell_type": "code",
      "metadata": {
        "id": "pL0UOO1UeB8M"
      },
      "source": [
        "!unzip cancer.zip"
      ],
      "execution_count": null,
      "outputs": []
    },
    {
      "cell_type": "code",
      "metadata": {
        "id": "L6CtmcOGePkN"
      },
      "source": [
        "!curl 'https://storage.googleapis.com/kaggle-data-sets/727300%2F1263316%2Fbundle%2Farchive.zip?GoogleAccessId=gcp-kaggle-com@kaggle-161607.iam.gserviceaccount.com&Expires=1593095997&Signature=E8x4ImMAdEKODibWZWS69NMIKbgyOvelexnSYmOM16iAo5iOx3aKeXznNwS29ktuqEnh6KiAvIRRxJxC8gx8CM4MdEUERka%2BWQOzkUEqhfR%2FCMHCoVlP5Kq4iIfJfFM1vsGy3nACvcYuuFpHTcWxAauz8RKw%2FoQngD8lQCuSbv7n5v4mCq6MJ0l1jzW82d33SYbz9a4d2KV2umIxVMaf4zp1ti2ZfqnUaE5PF52PaRDBSGZNcT8Yks5jL40rsR6I2m9Lt%2F1zFNeBHZGALfPtP8KJG4t9RiNzME9UAvNEIye5kbkcIklh%2FZiG2rxoPtFwKYPewM4mgLj4k2%2BN3CTT%2Fg%3D%3D' -H 'User-Agent: Mozilla/5.0 (X11; Ubuntu; Linux x86_64; rv:77.0) Gecko/20100101 Firefox/77.0' -H 'Accept: text/html,application/xhtml+xml,application/xml;q=0.9,image/webp,*/*;q=0.8' -H 'Accept-Language: en-US,en;q=0.5' --compressed -H 'Referer: https://www.kaggle.com/' -H 'Connection: keep-alive' -H 'Cookie: cuntwars_user_id=xXNhMHwAmW; _ga=GA1.3.1485321816.1568920993' -H 'Upgrade-Insecure-Requests: 1' -o external.zip"
      ],
      "execution_count": null,
      "outputs": []
    },
    {
      "cell_type": "code",
      "metadata": {
        "id": "5KCStmBxeWQJ"
      },
      "source": [
        "!unzip external.zip"
      ],
      "execution_count": null,
      "outputs": []
    },
    {
      "cell_type": "code",
      "metadata": {
        "id": "ZPUM-W-tbZh1"
      },
      "source": [
        "allData = pd.read_csv('/content/train.csv', sep = ',')\n",
        "df = pd.DataFrame(allData)\n",
        "malignant = df.groupby(df.target).get_group(1) \n",
        "benign = df.groupby(df.target).get_group(0)\n",
        "\n",
        "malignant_file_names = malignant.image_name.values\n",
        "benign_file_names = benign.image_name.values"
      ],
      "execution_count": null,
      "outputs": []
    },
    {
      "cell_type": "code",
      "metadata": {
        "id": "COc7wjolsuEB",
        "colab": {
          "base_uri": "https://localhost:8080/",
          "height": 34
        },
        "outputId": "82be2ef0-671c-45f1-8900-014b7c2d34de"
      },
      "source": [
        "print(len(malignant_file_names))"
      ],
      "execution_count": null,
      "outputs": [
        {
          "output_type": "stream",
          "text": [
            "584\n"
          ],
          "name": "stdout"
        }
      ]
    },
    {
      "cell_type": "code",
      "metadata": {
        "id": "Ptng2y0ys1Al"
      },
      "source": [
        "# !rm -R /content/300x300 \n",
        "# !rm -R /content/300x300/test\n",
        "# !rm -R /content/Data\n",
        "# !rm -R /content/train/.ipynb_checkpoints\n",
        "# !rm -R /content/train \n",
        "!rm -R /content/Data/train/benign"
      ],
      "execution_count": null,
      "outputs": []
    },
    {
      "cell_type": "code",
      "metadata": {
        "id": "0WL9sPxA5XeO"
      },
      "source": [
        "!cp -R /content/300x300/train /content/Data/train/benign"
      ],
      "execution_count": null,
      "outputs": []
    },
    {
      "cell_type": "code",
      "metadata": {
        "id": "6kLoc0sDcm2K"
      },
      "source": [
        "!mkdir Data  \n",
        "!mkdir /content/Data/train /content/Data/test \n",
        "!mkdir /content/Data/train/benign /content/Data/train/malignant /content/Data/test/benign /content/Data/test/malignant"
      ],
      "execution_count": null,
      "outputs": []
    },
    {
      "cell_type": "code",
      "metadata": {
        "id": "YHpmq17KTl3j"
      },
      "source": [
        "!mkdir /content/300x300/malignant"
      ],
      "execution_count": null,
      "outputs": []
    },
    {
      "cell_type": "code",
      "metadata": {
        "id": "BNkl5mvjUCbn",
        "colab": {
          "base_uri": "https://localhost:8080/",
          "height": 34
        },
        "outputId": "badd4285-7c50-4986-e623-888d7e2bbc5f"
      },
      "source": [
        "#remove malignants from the source\n",
        "source = '/content/300x300/train'\n",
        "traindest = '/content/300x300/malignant'\n",
        "for i,file in enumerate(malignant_file_names):\n",
        "  os.system('rm -R %s'%(source+'/'+file+'.jpg'))\n",
        "  sys.stdout.write('\\r %d%%: Copying %s to %s'%((i/len(malignant_file_names))*100, file, traindest))\n",
        "  sys.stdout.flush()\n",
        "print(\"\\rComplete\")"
      ],
      "execution_count": null,
      "outputs": [
        {
          "output_type": "stream",
          "text": [
            "Complete\n"
          ],
          "name": "stdout"
        }
      ]
    },
    {
      "cell_type": "code",
      "metadata": {
        "id": "yH-EcxfscoHd",
        "colab": {
          "base_uri": "https://localhost:8080/",
          "height": 34
        },
        "outputId": "6a3fdcf9-e335-4d79-9bcc-a64f4991cc39"
      },
      "source": [
        "#copy all external images to training folder\n",
        "dest = '/content/Data/train/malignant/'\n",
        "for root, dir, files in os.walk('/content/paparere'):\n",
        "  for i, file in enumerate(files):\n",
        "    os.system('cp %s %s'%(root+'/'+file, dest + str(i) +'.jpg'))\n",
        "    sys.stdout.write('\\r %d%%'%(100*i/len(files)))"
      ],
      "execution_count": null,
      "outputs": [
        {
          "output_type": "stream",
          "text": [
            " 99%"
          ],
          "name": "stdout"
        }
      ]
    },
    {
      "cell_type": "code",
      "metadata": {
        "id": "TbJpqbpEfb4U",
        "colab": {
          "base_uri": "https://localhost:8080/",
          "height": 52
        },
        "outputId": "354024b6-c84e-45fb-ebb3-239726d73d54"
      },
      "source": [
        "#Copy benigns\n",
        "source = '/content/300x300/train'\n",
        "traindest = '/content/Data/train/benign' \n",
        "testdest = '/content/Data/test/benign' \n",
        "trainSize = 30\n",
        "testSize = 100\n",
        "benign_file_names_train = benign_file_names[:trainSize]\n",
        "benign_file_names_test = benign_file_names[trainSize:trainSize+testSize]\n",
        "\n",
        "for i,file in enumerate(benign_file_names_train):\n",
        "  os.system('cp -r %s %s'%(source+'/'+file+'.jpg', traindest+'/'+file+'.jpg'))\n",
        "  sys.stdout.write('\\r %d%%: Copying %s to %s'%((i/len(benign_file_names_train))*100, file, traindest))\n",
        "  sys.stdout.flush()\n",
        "print(\"\\rComplete\")\n",
        "\n",
        "for i,file in enumerate(benign_file_names_test):\n",
        "  os.system('cp -r %s %s'%(source+'/'+file+'.jpg', testdest+'/'+file+'.jpg'))\n",
        "  sys.stdout.write('\\r %d%%: Copying %s to %s'%((i/len(benign_file_names_test))*100, file, testdest))\n",
        "  sys.stdout.flush()\n",
        "print(\"\\rComplete\")"
      ],
      "execution_count": null,
      "outputs": [
        {
          "output_type": "stream",
          "text": [
            "Complete\n",
            "Complete\n"
          ],
          "name": "stdout"
        }
      ]
    },
    {
      "cell_type": "code",
      "metadata": {
        "id": "1QVKK1fWo8ki",
        "colab": {
          "base_uri": "https://localhost:8080/",
          "height": 52
        },
        "outputId": "770eb66f-d642-4913-fdb0-3f00ea11ab6c"
      },
      "source": [
        "#Copy malignants\n",
        "source = '/content/300x300/train'\n",
        "traindest = '/content/Data/train/malignant' \n",
        "testdest = '/content/Data/test/malignant' \n",
        "testSize = 50\n",
        "malignant_file_names_train = malignant_file_names[testSize:]\n",
        "malignant_file_names_test = malignant_file_names[:testSize]\n",
        "\n",
        "for i,file in enumerate(malignant_file_names_train):\n",
        "  os.system('cp -r %s %s'%(source+'/'+file+'.jpg', traindest+'/'+file+'.jpg'))\n",
        "  sys.stdout.write('\\r %d%%: Copying %s to %s'%((i/len(malignant_file_names_train))*100, file, traindest))\n",
        "  sys.stdout.flush()\n",
        "print(\"\\rComplete\")\n",
        "\n",
        "for i,file in enumerate(malignant_file_names_test):\n",
        "  os.system('cp -r %s %s'%(source+'/'+file+'.jpg', testdest+'/'+file+'.jpg'))\n",
        "  sys.stdout.write('\\r %d%%: Copying %s to %s'%((i/len(malignant_file_names_test))*100, file, testdest))\n",
        "  sys.stdout.flush()\n",
        "print(\"\\rComplete\")"
      ],
      "execution_count": null,
      "outputs": [
        {
          "output_type": "stream",
          "text": [
            "Complete\n",
            "Complete\n"
          ],
          "name": "stdout"
        }
      ]
    },
    {
      "cell_type": "code",
      "metadata": {
        "id": "9glvqy8op4R9",
        "colab": {
          "base_uri": "https://localhost:8080/",
          "height": 34
        },
        "outputId": "1fb4db2e-366d-4b43-be71-289e51dbcd56"
      },
      "source": [
        "trainDatagen = ImageDataGenerator(rescale=1./255,\n",
        "                                  rotation_range=0.8,\n",
        "                                  zoom_range = 0.1,\n",
        "                                  fill_mode=\"nearest\",\n",
        "                                  horizontal_flip=True,\n",
        "                                  vertical_flip=True)\n",
        "traingen = trainDatagen.flow_from_directory(directory ='/content/Data/train',\n",
        "                                       class_mode = 'binary',\n",
        "                                       target_size = (300, 300),batch_size = 32)\n"
      ],
      "execution_count": null,
      "outputs": [
        {
          "output_type": "stream",
          "text": [
            "Found 33076 images belonging to 2 classes.\n"
          ],
          "name": "stdout"
        }
      ]
    },
    {
      "cell_type": "code",
      "metadata": {
        "id": "UCI2vIWj-3_7"
      },
      "source": [
        "# create image tensor of test set\n",
        "labels = []\n",
        "test_image_tensor = []\n",
        "\n",
        "for root, dir, images in os.walk('/content/Data/test/benign'):\n",
        "  for image in images:\n",
        "    img = plt.imread(root+'/'+image)/255\n",
        "    test_image_tensor.append(img)\n",
        "    labels.append(0)\n",
        "\n",
        "for root, dir, images in os.walk('/content/Data/test/malignant'):\n",
        "  for image in images:\n",
        "    img = plt.imread(root+'/'+image)/255\n",
        "    test_image_tensor.append(img)\n",
        "    labels.append(1)\n",
        "\n",
        "test_image_tensor = np.array(test_image_tensor)\n",
        "labels = np.array(labels).reshape(-1)"
      ],
      "execution_count": null,
      "outputs": []
    },
    {
      "cell_type": "code",
      "metadata": {
        "id": "zjBmIzxnedm3",
        "colab": {
          "base_uri": "https://localhost:8080/",
          "height": 34
        },
        "outputId": "88a784c3-94c3-400b-9d4d-fdf5acd1e2c6"
      },
      "source": [
        "print(test_image_tensor.shape, labels.shape)"
      ],
      "execution_count": null,
      "outputs": [
        {
          "output_type": "stream",
          "text": [
            "(150, 300, 300, 3) (150,)\n"
          ],
          "name": "stdout"
        }
      ]
    },
    {
      "cell_type": "markdown",
      "metadata": {
        "id": "qqF_6GFzfwof"
      },
      "source": [
        "Inception V3\n"
      ]
    },
    {
      "cell_type": "code",
      "metadata": {
        "id": "qgultjHzqruc"
      },
      "source": [
        "from tensorflow.keras.applications import InceptionV3\n",
        "incep = InceptionV3()"
      ],
      "execution_count": null,
      "outputs": []
    },
    {
      "cell_type": "code",
      "metadata": {
        "id": "3Yzd5YmHqt3O"
      },
      "source": [
        "incep.summary()"
      ],
      "execution_count": null,
      "outputs": []
    },
    {
      "cell_type": "code",
      "metadata": {
        "id": "p-ZPWUkGqt6r"
      },
      "source": [
        "\n",
        "for layer in incep.layers:\n",
        "  layer.trainable = False\n",
        "\n"
      ],
      "execution_count": null,
      "outputs": []
    },
    {
      "cell_type": "code",
      "metadata": {
        "id": "XsVhTssfsMs8"
      },
      "source": [
        "break_layer_out = incep.get_layer('mixed8').output\n",
        "x = Conv2D(512,(3,3), activation= 'relu')(break_layer_out)\n",
        "x = GlobalAveragePooling2D()(x) \n",
        "x = Dropout(0.3)(x)\n",
        "x = Flatten()(x)\n",
        "\n",
        "x = Dense(1024, activation = 'relu', kernel_regularizer=keras.regularizers.l2(10e-7))(x)\n",
        "x = Dropout(0.1)(x)\n",
        "\n",
        "x = Dense(512, activation = 'relu', kernel_regularizer=keras.regularizers.l2(10e-7))(x)\n",
        "x = Dropout(0.1)(x)\n",
        "\n",
        "x = Dense(256, activation = 'relu', kernel_regularizer=keras.regularizers.l2(10e-7))(x)\n",
        "x = Dropout(0.1)(x)\n",
        "\n",
        "x = Dense(1, activation = 'sigmoid')(x)\n",
        "\n",
        "net = Model(incep.input, x)\n",
        "net.summary()\n"
      ],
      "execution_count": null,
      "outputs": []
    },
    {
      "cell_type": "markdown",
      "metadata": {
        "id": "0g4qD0lAf92n"
      },
      "source": [
        "Efficient Net"
      ]
    },
    {
      "cell_type": "code",
      "metadata": {
        "id": "UYVCrdlji11D"
      },
      "source": [
        "!pip install -q efficientnet"
      ],
      "execution_count": null,
      "outputs": []
    },
    {
      "cell_type": "code",
      "metadata": {
        "id": "RZknz-uUf-M-"
      },
      "source": [
        "import efficientnet.tfkeras as efn"
      ],
      "execution_count": null,
      "outputs": []
    },
    {
      "cell_type": "code",
      "metadata": {
        "id": "sFy02psLjQL8",
        "colab": {
          "base_uri": "https://localhost:8080/",
          "height": 52
        },
        "outputId": "9cbc3fe5-6c36-48b2-cf44-3ec00902cf2d"
      },
      "source": [
        "effnet = efn.EfficientNetB5(input_shape = (300,300,3), include_top=False)"
      ],
      "execution_count": null,
      "outputs": [
        {
          "output_type": "stream",
          "text": [
            "Downloading data from https://github.com/Callidior/keras-applications/releases/download/efficientnet/efficientnet-b5_weights_tf_dim_ordering_tf_kernels_autoaugment_notop.h5\n",
            "115515392/115515256 [==============================] - 2s 0us/step\n"
          ],
          "name": "stdout"
        }
      ]
    },
    {
      "cell_type": "code",
      "metadata": {
        "id": "Yzfq6cjij1ji"
      },
      "source": [
        "effnet.summary()"
      ],
      "execution_count": null,
      "outputs": []
    },
    {
      "cell_type": "code",
      "metadata": {
        "id": "owzL4Ig-oZy_"
      },
      "source": [
        "i = 0\n",
        "for layer in effnet.layers:\n",
        "  layer.trainable = False\n",
        "  i = i +1 \n",
        "  if i > 450:\n",
        "    break"
      ],
      "execution_count": null,
      "outputs": []
    },
    {
      "cell_type": "code",
      "metadata": {
        "id": "K9NL1_RJkebz"
      },
      "source": [
        "l = effnet.output\n",
        "l = GlobalAveragePooling2D()(l)\n",
        "l = Flatten()(l)\n",
        "l = Dense(1024, activation = 'relu')(l)\n",
        "l = Dropout(0.2)(l)\n",
        "\n",
        "l = Dense(256, activation = 'relu')(l)\n",
        "l = Dropout(0.1)(l)\n",
        "\n",
        "l = Dense(1, activation = 'sigmoid')(l)\n",
        "net = Model(effnet.input, l)\n",
        "net.summary()"
      ],
      "execution_count": null,
      "outputs": []
    },
    {
      "cell_type": "markdown",
      "metadata": {
        "id": "8RPwCfG0f5aD"
      },
      "source": [
        "compile & training"
      ]
    },
    {
      "cell_type": "code",
      "metadata": {
        "id": "n3DkDhHAxtxr"
      },
      "source": [
        "net.compile(optimizer=keras.optimizers.Adam(learning_rate=0.00001), loss = keras.losses.BinaryCrossentropy( label_smoothing= 0.1), metrics = ['binary_crossentropy'])"
      ],
      "execution_count": null,
      "outputs": []
    },
    {
      "cell_type": "code",
      "metadata": {
        "id": "mAgbJqC7ySZr",
        "colab": {
          "base_uri": "https://localhost:8080/",
          "height": 245
        },
        "outputId": "56f4234f-fae7-43ff-d4fe-1ba8f34581c0"
      },
      "source": [
        "history = net.fit(traingen, steps_per_epoch = 1030, epochs = 50, callbacks = [callback])"
      ],
      "execution_count": null,
      "outputs": [
        {
          "output_type": "stream",
          "text": [
            "Epoch 1/50\n",
            "1030/1030 [==============================] - ETA: 0s - loss: 0.2389 - binary_crossentropy: 0.1050WARNING:tensorflow:Model was constructed with shape (None, 299, 299, 3) for input Tensor(\"input_1:0\", shape=(None, 299, 299, 3), dtype=float32), but it was called on an input with incompatible shape (None, 300, 300, 3).\n",
            "   roc_auc : 0.9099999999999999\n",
            "1030/1030 [==============================] - 1065s 1s/step - loss: 0.2389 - binary_crossentropy: 0.1050\n",
            "Epoch 2/50\n",
            "1030/1030 [==============================] - ETA: 0s - loss: 0.2357 - binary_crossentropy: 0.1003   roc_auc : 0.9164\n",
            "1030/1030 [==============================] - 1086s 1s/step - loss: 0.2357 - binary_crossentropy: 0.1003\n",
            "Epoch 3/50\n",
            "1030/1030 [==============================] - ETA: 0s - loss: 0.2336 - binary_crossentropy: 0.0974   roc_auc : 0.8948\n",
            "1030/1030 [==============================] - 1044s 1s/step - loss: 0.2336 - binary_crossentropy: 0.0974\n",
            "Epoch 4/50\n",
            " 484/1030 [=============>................] - ETA: 9:02 - loss: 0.2290 - binary_crossentropy: 0.0912"
          ],
          "name": "stdout"
        }
      ]
    },
    {
      "cell_type": "code",
      "metadata": {
        "id": "kn2Joh3ZBgfJ"
      },
      "source": [
        "roc_auc = []\n",
        "class Callback(keras.callbacks.Callback):\n",
        "  def on_epoch_end(self, epoch, logs=None):\n",
        "      predictions = net.predict(test_image_tensor).reshape(-1) \n",
        "      auc = roc_auc_score(labels, predictions)\n",
        "      roc_auc.append(auc)\n",
        "      dir = '/content/drive/My Drive/cancer/models/EfficientNetB5/v2/auc_%d.h5'%(auc*1000)\n",
        "      net.save(dir)\n",
        "      print('   roc_auc :',auc)\n",
        "\n",
        "        \n",
        "\n",
        "callback = Callback()"
      ],
      "execution_count": null,
      "outputs": []
    },
    {
      "cell_type": "code",
      "metadata": {
        "id": "xwc-d5jOziyt",
        "colab": {
          "base_uri": "https://localhost:8080/",
          "height": 34
        },
        "outputId": "cacc22c3-9cfb-4ca6-ab47-bb92862346f9"
      },
      "source": [
        "predictions = net.predict(test_image_tensor).reshape(-1) \n",
        "auc = roc_auc_score(labels, predictions)\n",
        "print(auc)"
      ],
      "execution_count": null,
      "outputs": [
        {
          "output_type": "stream",
          "text": [
            "0.9154\n"
          ],
          "name": "stdout"
        }
      ]
    },
    {
      "cell_type": "code",
      "metadata": {
        "id": "SdCoIo8TvFOy"
      },
      "source": [
        "net = load_model('/content/drive/My Drive/cancer/models/incep/auc_915.h5')"
      ],
      "execution_count": null,
      "outputs": []
    },
    {
      "cell_type": "code",
      "metadata": {
        "id": "8RmwtKpFpx6E"
      },
      "source": [
        "for layer in net.layers:\n",
        "  layer.trainable = True\n"
      ],
      "execution_count": null,
      "outputs": []
    },
    {
      "cell_type": "code",
      "metadata": {
        "id": "0TeSq_TYzExW"
      },
      "source": [
        "output = []\n",
        "for root,dir,files in os.walk('/content/300x300/test'):\n",
        "  for i,image in enumerate(files):\n",
        "    image_name = image.strip('.jpg')\n",
        "    img =  plt.imread(root+'/'+image)\n",
        "    img = np.reshape(img,(1,300,300,3))\n",
        "    # img = cv2.resize(img,(299, 299)).reshape(1, 299, 299,3)\n",
        "    prediction = net.predict(img/255)\n",
        "    \n",
        "    print(int((i/len(files))*100),image_name, round(prediction[0][0],5))\n",
        "    output.append([image_name,round(prediction[0][0],5)])\n",
        "    # break\n"
      ],
      "execution_count": null,
      "outputs": []
    },
    {
      "cell_type": "code",
      "metadata": {
        "id": "iovHsWz-djff"
      },
      "source": [
        ""
      ],
      "execution_count": null,
      "outputs": []
    },
    {
      "cell_type": "code",
      "metadata": {
        "id": "X6LMgZ0k4N7Y"
      },
      "source": [
        "\n",
        "df = pd.DataFrame(output)"
      ],
      "execution_count": null,
      "outputs": []
    },
    {
      "cell_type": "code",
      "metadata": {
        "id": "WWuWnNO06cIU"
      },
      "source": [
        "df.to_csv('/content/kagglev31_incep.csv', index=False)"
      ],
      "execution_count": null,
      "outputs": []
    },
    {
      "cell_type": "code",
      "metadata": {
        "id": "4SMA85L96e-S",
        "colab": {
          "base_uri": "https://localhost:8080/",
          "height": 34
        },
        "outputId": "12dabba7-393a-46c8-a477-9e6ebc5cc9a9"
      },
      "source": [
        "#  print the propotion of 1s\n",
        "a = np.array(df[1].values)\n",
        "b = a > 0.076117\n",
        "print(np.sum(b)/a.shape[0])"
      ],
      "execution_count": null,
      "outputs": [
        {
          "output_type": "stream",
          "text": [
            "0.36632671644509196\n"
          ],
          "name": "stdout"
        }
      ]
    },
    {
      "cell_type": "code",
      "metadata": {
        "id": "kw_SOoP96gJr",
        "colab": {
          "base_uri": "https://localhost:8080/",
          "height": 34
        },
        "outputId": "7695f550-4f5f-4dec-981c-e36d1522d611"
      },
      "source": [
        "avg = 0\n",
        "for i in range(len(output)):\n",
        "  avg = avg + output[i][1]\n",
        "\n",
        "avg = avg/len(output)\n",
        "print(avg)"
      ],
      "execution_count": null,
      "outputs": [
        {
          "output_type": "stream",
          "text": [
            "0.07611705518120497\n"
          ],
          "name": "stdout"
        }
      ]
    },
    {
      "cell_type": "code",
      "metadata": {
        "id": "uJpRvYCmUfRI",
        "colab": {
          "base_uri": "https://localhost:8080/",
          "height": 34
        },
        "outputId": "d5944023-72d6-4f5e-9ff1-3f1d62e35012"
      },
      "source": [
        "img =  plt.imread('/content/train/malignant/ISIC_0351666.jpg')\n",
        "img = np.reshape(img,(1,300,300,3))\n",
        "# img = cv2.resize(img,(299, 299)).reshape(1, 299, 299,3)\n",
        "prediction = net.predict(img/255)\n",
        "print(prediction)"
      ],
      "execution_count": null,
      "outputs": [
        {
          "output_type": "stream",
          "text": [
            "[[0.98666465]]\n"
          ],
          "name": "stdout"
        }
      ]
    },
    {
      "cell_type": "code",
      "metadata": {
        "id": "G1wYsSSVUndb"
      },
      "source": [
        "out = output"
      ],
      "execution_count": null,
      "outputs": []
    },
    {
      "cell_type": "code",
      "metadata": {
        "id": "K07YRKHseO9a"
      },
      "source": [
        "\n",
        "np.save('/content/drive/My Drive/cancer/roc_auc_curves/v4.npy', roc_auc)"
      ],
      "execution_count": null,
      "outputs": []
    },
    {
      "cell_type": "code",
      "metadata": {
        "id": "HwJPogLlJlJR",
        "colab": {
          "base_uri": "https://localhost:8080/",
          "height": 282
        },
        "outputId": "c5dfa01c-fb24-468e-f77b-d257cfcb1053"
      },
      "source": [
        "a = np.load('/content/drive/My Drive/cancer/roc_auc_curves/v1.npy')\n",
        "plt.plot(roc_auc)"
      ],
      "execution_count": null,
      "outputs": [
        {
          "output_type": "execute_result",
          "data": {
            "text/plain": [
              "[<matplotlib.lines.Line2D at 0x7f743baf9b70>]"
            ]
          },
          "metadata": {
            "tags": []
          },
          "execution_count": 57
        },
        {
          "output_type": "display_data",
          "data": {
            "image/png": "[encoded data removed]",
            "text/plain": [
              "<Figure size 432x288 with 1 Axes>"
            ]
          },
          "metadata": {
            "tags": [],
            "needs_background": "light"
          }
        }
      ]
    },
    {
      "cell_type": "code",
      "metadata": {
        "id": "mp6690UbJPrB"
      },
      "source": [
        ""
      ],
      "execution_count": null,
      "outputs": []
    }
  ]
}
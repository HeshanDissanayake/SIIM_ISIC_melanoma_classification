{
  "nbformat": 4,
  "nbformat_minor": 0,
  "metadata": {
    "colab": {
      "name": "SIIM_ISIC.ipynb",
      "provenance": [],
      "collapsed_sections": [],
      "include_colab_link": true
    },
    "kernelspec": {
      "name": "python3",
      "display_name": "Python 3"
    },
    "accelerator": "GPU"
  },
  "cells": [
    {
      "cell_type": "markdown",
      "metadata": {
        "id": "view-in-github",
        "colab_type": "text"
      },
      "source": [
        "<a href=\"https://colab.research.google.com/github/HeshanDissanayake/SIIM_ISIC_melanoma_classification/blob/main/SIIM_ISIC.ipynb\" target=\"_parent\"><img src=\"https://colab.research.google.com/assets/colab-badge.svg\" alt=\"Open In Colab\"/></a>"
      ]
    },
    {
      "cell_type": "code",
      "metadata": {
        "id": "8PR5VqRLTu5k",
        "colab": {
          "base_uri": "https://localhost:8080/",
          "height": 69
        },
        "outputId": "d4c6dbe5-ba52-4654-866f-30911ac0cf86"
      },
      "source": [
        "!curl 'https://storage.googleapis.com/kaggle-data-sets/687793%2F1205903%2Fbundle%2Farchive.zip?GoogleAccessId=gcp-kaggle-com@kaggle-161607.iam.gserviceaccount.com&Expires=1592876955&Signature=e1XfUeSR1WAk0NUINE6lVoZl4aRmew0bEvGhm5dO%2F2gJMOSDBBjMuY5W%2BD2Dn2lnVUJuVatrP27LmbKQOKKZkARn2eyEYV0nyIU5dnOjT9yBymaHDRY9NifpOb%2BcRoPD%2BqIprjXA2rowtClLEr8znTvLw458pQyJFUpZLQLBdEu6gyxVwJrCsXr4VG6oBfKyqI17oVYOgOVhvAvskrDQqCAQGmp6AcqHhEPXWWUXFiGSzexx28OCSEbqzsx2Q4a2nk6BMxrl%2BReAIu2O%2FzRbn7rZqmLasVeyO%2F5c3Xfpj6nhydW4ZdeK2x2RSPlw4JrvZ1UgqdVIbNzP9ZL7EyOTbw%3D%3D' -H 'User-Agent: Mozilla/5.0 (X11; Ubuntu; Linux x86_64; rv:77.0) Gecko/20100101 Firefox/77.0' -H 'Accept: text/html,application/xhtml+xml,application/xml;q=0.9,image/webp,*/*;q=0.8' -H 'Accept-Language: en-US,en;q=0.5' --compressed -H 'Referer: https://www.kaggle.com/' -H 'Connection: keep-alive' -H 'Cookie: cuntwars_user_id=xXNhMHwAmW; _ga=GA1.3.1485321816.1568920993' -H 'Upgrade-Insecure-Requests: 1' -H 'TE: Trailers' -o cancer.zip"
      ],
      "execution_count": null,
      "outputs": [
        {
          "output_type": "stream",
          "text": [
            "  % Total    % Received % Xferd  Average Speed   Time    Time     Time  Current\n",
            "                                 Dload  Upload   Total   Spent    Left  Speed\n",
            "100 2021M  100 2021M    0     0  81.4M      0  0:00:24  0:00:24 --:--:-- 93.0M\n"
          ],
          "name": "stdout"
        }
      ]
    },
    {
      "cell_type": "code",
      "metadata": {
        "id": "V6Forzs4Wsm3"
      },
      "source": [
        "!unzip cancer.zip"
      ],
      "execution_count": null,
      "outputs": []
    },
    {
      "cell_type": "code",
      "metadata": {
        "id": "_Asdx8toX97D"
      },
      "source": [
        "import os\n",
        "import sys\n",
        "import numpy as np\n",
        "import pandas as pd\n",
        "import matplotlib.pyplot as plt\n",
        "import seaborn as sns\n",
        "import random\n",
        "import cv2\n",
        "from tensorflow.keras.preprocessing.image import ImageDataGenerator\n",
        "from shutil import copy\n",
        "from tensorflow.keras.layers import Input, Conv2D, MaxPooling2D, UpSampling2D, add, Dropout, Flatten, Dense, Reshape\n",
        "from tensorflow.keras.models import Model\n",
        "from zipfile import ZipFile\n",
        "import sys\n",
        "from tensorflow.keras.models import Sequential, load_model\n",
        "from  tensorflow import keras"
      ],
      "execution_count": null,
      "outputs": []
    },
    {
      "cell_type": "code",
      "metadata": {
        "id": "6ce3lKdzYh2D"
      },
      "source": [
        "allData = pd.read_csv('/content/train.csv', sep = ',')\n",
        "df = pd.DataFrame(allData)\n",
        "malignant = df.groupby(df.target).get_group(1) \n",
        "benign = df.groupby(df.target).get_group(0)\n",
        "\n",
        "malignant_file_names = malignant.image_name.values\n",
        "benign_file_names = benign.image_name.values"
      ],
      "execution_count": null,
      "outputs": []
    },
    {
      "cell_type": "code",
      "metadata": {
        "id": "WoWyMY_deoR0",
        "colab": {
          "base_uri": "https://localhost:8080/",
          "height": 34
        },
        "outputId": "ee5a75f6-fb9a-48a0-e304-a0821be30c63"
      },
      "source": [
        "len(malignant_file_names)\n"
      ],
      "execution_count": null,
      "outputs": [
        {
          "output_type": "execute_result",
          "data": {
            "text/plain": [
              "584"
            ]
          },
          "metadata": {
            "tags": []
          },
          "execution_count": 8
        }
      ]
    },
    {
      "cell_type": "code",
      "metadata": {
        "id": "N4PvOga4NYtP"
      },
      "source": [
        "!rm -R /content/Data"
      ],
      "execution_count": null,
      "outputs": []
    },
    {
      "cell_type": "code",
      "metadata": {
        "id": "2vuE9IK_Z2kQ"
      },
      "source": [
        "\n",
        "!mkdir Data /content/Data/maignant /content/Data/maignant/train  \n",
        "!mkdir /content/Data/train /content/Data/test \n",
        "!mkdir /content/Data/train/benign /content/Data/train/malignant /content/Data/test/benign /content/Data/test/malignant"
      ],
      "execution_count": null,
      "outputs": []
    },
    {
      "cell_type": "code",
      "metadata": {
        "id": "z3ytrCu2qc78"
      },
      "source": [
        ""
      ],
      "execution_count": null,
      "outputs": []
    },
    {
      "cell_type": "code",
      "metadata": {
        "id": "sV_6LuVxY6dZ",
        "colab": {
          "base_uri": "https://localhost:8080/",
          "height": 34
        },
        "outputId": "a82b6861-1cbe-4fc8-abd0-065d1741ccff"
      },
      "source": [
        "#Copy benigns\n",
        "source = '/content/640x640/train'\n",
        "traindest = '/content/Data/train/benign' \n",
        "testdest = '/content/Data/test/benign' \n",
        "trainSize = 1500\n",
        "testSize = 1000\n",
        "benign_file_names_train = benign_file_names[:trainSize]\n",
        "benign_file_names_test = benign_file_names[trainSize:trainSize+testSize]\n",
        "\n",
        "for i,file in enumerate(benign_file_names_train):\n",
        "  os.system('cp -r %s %s'%(source+'/'+file+'.jpg', traindest+'/'+file+'.jpg'))\n",
        "  sys.stdout.write('\\r %d%%: Copying %s to %s'%((i/len(benign_file_names_train))*100, file, traindest))\n",
        "  sys.stdout.flush()\n",
        "print(\"\\rComplete\")\n",
        "\n",
        "# for i,file in enumerate(benign_file_names_test):\n",
        "#   os.system('cp -r %s %s'%(source+'/'+file+'.jpg', testdest+'/'+file+'.jpg'))\n",
        "#   sys.stdout.write('\\r %d%%: Copying %s to %s'%((i/len(benign_file_names_test))*100, file, testdest))\n",
        "#   sys.stdout.flush()\n",
        "# print(\"\\rComplete\")"
      ],
      "execution_count": null,
      "outputs": [
        {
          "output_type": "stream",
          "text": [
            "Complete\n"
          ],
          "name": "stdout"
        }
      ]
    },
    {
      "cell_type": "code",
      "metadata": {
        "id": "m29KXYtPZKzm",
        "colab": {
          "base_uri": "https://localhost:8080/",
          "height": 34
        },
        "outputId": "2037c70c-8874-48c4-ef00-3b88e33d547a"
      },
      "source": [
        "#Copy malignants\n",
        "source = '/content/640x640/train'\n",
        "dest = '/content/Data/train/malignant' \n",
        "for i,file in enumerate(malignant_file_names):\n",
        "  os.system('cp -r %s %s'%(source+'/'+file+'.jpg', dest+'/'+file+'.jpg'))  \n",
        "  sys.stdout.write('\\r %d%%: Copying %s to %s'%((i/len(malignant_file_names))*100, file, dest))\n",
        "  sys.stdout.flush()\n",
        "print(\"\\rComplete\")"
      ],
      "execution_count": null,
      "outputs": [
        {
          "output_type": "stream",
          "text": [
            "Complete\n"
          ],
          "name": "stdout"
        }
      ]
    },
    {
      "cell_type": "code",
      "metadata": {
        "id": "6fR036_2WwBD"
      },
      "source": [
        "#datagen for the malignant augmentation\n",
        "datagen = ImageDataGenerator(rotation_range=1,\n",
        "                              zoom_range = 0.5,\n",
        "                              fill_mode=\"nearest\",\n",
        "                              horizontal_flip=True,\n",
        "                              vertical_flip=True)"
      ],
      "execution_count": null,
      "outputs": []
    },
    {
      "cell_type": "code",
      "metadata": {
        "id": "bw5aadYaXB9a",
        "colab": {
          "base_uri": "https://localhost:8080/",
          "height": 34
        },
        "outputId": "eb632070-4a3a-49df-b0f4-aceb15f28365"
      },
      "source": [
        "images = datagen.flow_from_directory( directory='/content/Data/maignant',\n",
        "                                target_size=(640, 640),\n",
        "                                color_mode=\"rgb\",\n",
        "                                shuffle=True,\n",
        "                                save_to_dir='/content/Data/train/malignant',\n",
        "                                save_format=\"jpg\",\n",
        "                                seed = 1,\n",
        "                                batch_size = 1\n",
        "                                )\n"
      ],
      "execution_count": null,
      "outputs": [
        {
          "output_type": "stream",
          "text": [
            "Found 584 images belonging to 1 classes.\n"
          ],
          "name": "stdout"
        }
      ]
    },
    {
      "cell_type": "code",
      "metadata": {
        "id": "sxVh7I-YXDr2",
        "colab": {
          "base_uri": "https://localhost:8080/",
          "height": 34
        },
        "outputId": "8a45e85d-9441-452a-926d-a2aa51c77933"
      },
      "source": [
        "tot = 0\n",
        "for i, batch in enumerate(images):\n",
        "  if i > 7000:\n",
        "    break\n",
        "  tot = tot + batch[0].shape[0]\n",
        "  sys.stdout.write('\\r Total number of augmented images = %d'%tot)\n",
        "  sys.stdout.flush()"
      ],
      "execution_count": null,
      "outputs": [
        {
          "output_type": "stream",
          "text": [
            " Total number of augmented images = 7001"
          ],
          "name": "stdout"
        }
      ]
    },
    {
      "cell_type": "code",
      "metadata": {
        "id": "iO5fmE6mdeRW",
        "colab": {
          "base_uri": "https://localhost:8080/",
          "height": 34
        },
        "outputId": "664787b8-5500-4cc1-b8d1-a80424cc68fe"
      },
      "source": [
        "testdatagen = ImageDataGenerator(rotation_range=0.6,\n",
        "                              zoom_range = 0.2,\n",
        "                              fill_mode=\"nearest\",\n",
        "                              horizontal_flip=True,\n",
        "                              vertical_flip=True)\n",
        "images = testdatagen.flow_from_directory( directory='/content/Data/maignant',\n",
        "                                target_size=(640, 640),\n",
        "                                color_mode=\"rgb\",\n",
        "                                shuffle=True,\n",
        "                                save_to_dir='/content/Data/test/malignant',\n",
        "                                save_format=\"jpg\",\n",
        "                                seed = 1,\n",
        "                                batch_size = 1\n",
        "                                )\n"
      ],
      "execution_count": null,
      "outputs": [
        {
          "output_type": "stream",
          "text": [
            "Found 584 images belonging to 1 classes.\n"
          ],
          "name": "stdout"
        }
      ]
    },
    {
      "cell_type": "code",
      "metadata": {
        "id": "wEqKtDwmdeZc",
        "colab": {
          "base_uri": "https://localhost:8080/",
          "height": 34
        },
        "outputId": "b1006fde-78db-4ab1-824f-7a5fa6002a90"
      },
      "source": [
        "tot = 0\n",
        "for i, batch in enumerate(images):\n",
        "  if i > 1000:\n",
        "    break\n",
        "  tot = tot + batch[0].shape[0]\n",
        "  sys.stdout.write('\\r Total number of augmented images = %d'%tot)\n",
        "  sys.stdout.flush()"
      ],
      "execution_count": null,
      "outputs": [
        {
          "output_type": "stream",
          "text": [
            " Total number of augmented images = 1001"
          ],
          "name": "stdout"
        }
      ]
    },
    {
      "cell_type": "code",
      "metadata": {
        "id": "zQ8cHeuQYG_6",
        "colab": {
          "base_uri": "https://localhost:8080/",
          "height": 52
        },
        "outputId": "b7cdaa11-3cb8-4317-e96c-8cdff9088bcf"
      },
      "source": [
        "trainDatagen = ImageDataGenerator(rescale=1./255,\n",
        "                                  rotation_range=0.6,\n",
        "                                  zoom_range = 0.3,\n",
        "                                  fill_mode=\"nearest\",\n",
        "                                  horizontal_flip=True,\n",
        "                                  vertical_flip=True)\n",
        "testDatagen = ImageDataGenerator(rescale=1./255)\n",
        "traingen = trainDatagen.flow_from_directory(directory ='/content/Data/train',\n",
        "                                       class_mode = 'binary',\n",
        "                                       target_size = (320, 320),batch_size = 50)\n",
        "testgen = testDatagen.flow_from_directory(directory ='/content/Data/test',\n",
        "                                       class_mode = 'binary',\n",
        "                                       target_size = (224, 224),batch_size = 20)"
      ],
      "execution_count": null,
      "outputs": [
        {
          "output_type": "stream",
          "text": [
            "Found 2084 images belonging to 2 classes.\n",
            "Found 0 images belonging to 2 classes.\n"
          ],
          "name": "stdout"
        }
      ]
    },
    {
      "cell_type": "code",
      "metadata": {
        "id": "E2J8iOABbPqT",
        "colab": {
          "base_uri": "https://localhost:8080/",
          "height": 920
        },
        "outputId": "e2672567-0b97-4817-ecbf-6ad57f306784"
      },
      "source": [
        "input = Input(shape = (320, 320, 3))\n",
        "l1 = Conv2D(16, (3,3), activation = 'relu', padding = 'same', kernel_regularizer= keras.regularizers.l2(1e-4))(input) \n",
        "l1 = Dropout(0.1)(l1)\n",
        "l2 = MaxPooling2D(2,2)(l1)\n",
        "\n",
        "l3 = Conv2D(32, (3,3), activation = 'relu', padding = 'same', kernel_regularizer= keras.regularizers.l2(1e-4))(l2) \n",
        "l4 = MaxPooling2D(2,2)(l3)\n",
        "\n",
        "l5 = Conv2D(64, (3,3), activation = 'relu', padding = 'same', kernel_regularizer= keras.regularizers.l2(1e-4))(l4)\n",
        "l6 = MaxPooling2D(2,2)(l5)\n",
        "\n",
        "l7 = Conv2D(128, (3,3), activation = 'relu', padding = 'same', kernel_regularizer= keras.regularizers.l2(1e-4))(l6) \n",
        "l8 = MaxPooling2D(2,2)(l7)\n",
        "\n",
        "l9 = Conv2D(256, (3,3), activation = 'relu', padding = 'same', kernel_regularizer= keras.regularizers.l2(1e-4))(l8) \n",
        "l10 = Conv2D(512, (3,3), activation = 'relu', padding = 'same', kernel_regularizer= keras.regularizers.l2(1e-4))(l9) \n",
        "l11 = MaxPooling2D(2,2)(l10)\n",
        "\n",
        "l12 = Conv2D(256, (3,3), activation = 'relu', padding = 'same', kernel_regularizer= keras.regularizers.l2(1e-4))(l11) \n",
        "l12 = Dropout(0.3)(l12)\n",
        "\n",
        "l13 = MaxPooling2D(2,2)(l12)\n",
        "\n",
        "l14 = Flatten()(l13)\n",
        "l15 = Dense(100, activation = 'relu',kernel_regularizer= keras.regularizers.l2(1e-5))(l14)\n",
        "l15 = Dropout(0.2)(l15)\n",
        "l16 = Dense(100, activation = 'relu',kernel_regularizer= keras.regularizers.l2(1e-5))(l15)\n",
        "l16 = Dropout(0.1)(l16)\n",
        "l17 = Dense(1, activation = 'sigmoid')(l16)\n",
        "\n",
        "net = Model(input, l17)\n",
        "net.summary()"
      ],
      "execution_count": null,
      "outputs": [
        {
          "output_type": "stream",
          "text": [
            "Model: \"model_2\"\n",
            "_________________________________________________________________\n",
            "Layer (type)                 Output Shape              Param #   \n",
            "=================================================================\n",
            "input_3 (InputLayer)         [(None, 320, 320, 3)]     0         \n",
            "_________________________________________________________________\n",
            "conv2d_14 (Conv2D)           (None, 320, 320, 16)      448       \n",
            "_________________________________________________________________\n",
            "dropout_8 (Dropout)          (None, 320, 320, 16)      0         \n",
            "_________________________________________________________________\n",
            "max_pooling2d_12 (MaxPooling (None, 160, 160, 16)      0         \n",
            "_________________________________________________________________\n",
            "conv2d_15 (Conv2D)           (None, 160, 160, 32)      4640      \n",
            "_________________________________________________________________\n",
            "max_pooling2d_13 (MaxPooling (None, 80, 80, 32)        0         \n",
            "_________________________________________________________________\n",
            "conv2d_16 (Conv2D)           (None, 80, 80, 64)        18496     \n",
            "_________________________________________________________________\n",
            "max_pooling2d_14 (MaxPooling (None, 40, 40, 64)        0         \n",
            "_________________________________________________________________\n",
            "conv2d_17 (Conv2D)           (None, 40, 40, 128)       73856     \n",
            "_________________________________________________________________\n",
            "max_pooling2d_15 (MaxPooling (None, 20, 20, 128)       0         \n",
            "_________________________________________________________________\n",
            "conv2d_18 (Conv2D)           (None, 20, 20, 256)       295168    \n",
            "_________________________________________________________________\n",
            "conv2d_19 (Conv2D)           (None, 20, 20, 512)       1180160   \n",
            "_________________________________________________________________\n",
            "max_pooling2d_16 (MaxPooling (None, 10, 10, 512)       0         \n",
            "_________________________________________________________________\n",
            "conv2d_20 (Conv2D)           (None, 10, 10, 256)       1179904   \n",
            "_________________________________________________________________\n",
            "dropout_9 (Dropout)          (None, 10, 10, 256)       0         \n",
            "_________________________________________________________________\n",
            "max_pooling2d_17 (MaxPooling (None, 5, 5, 256)         0         \n",
            "_________________________________________________________________\n",
            "flatten_2 (Flatten)          (None, 6400)              0         \n",
            "_________________________________________________________________\n",
            "dense_6 (Dense)              (None, 100)               640100    \n",
            "_________________________________________________________________\n",
            "dropout_10 (Dropout)         (None, 100)               0         \n",
            "_________________________________________________________________\n",
            "dense_7 (Dense)              (None, 100)               10100     \n",
            "_________________________________________________________________\n",
            "dropout_11 (Dropout)         (None, 100)               0         \n",
            "_________________________________________________________________\n",
            "dense_8 (Dense)              (None, 1)                 101       \n",
            "=================================================================\n",
            "Total params: 3,402,973\n",
            "Trainable params: 3,402,973\n",
            "Non-trainable params: 0\n",
            "_________________________________________________________________\n"
          ],
          "name": "stdout"
        }
      ]
    },
    {
      "cell_type": "code",
      "metadata": {
        "id": "5doS4TFhb2ic"
      },
      "source": [
        "\n",
        "class Callback(keras.callbacks.Callback):\n",
        "  def on_epoch_end(self, epoch, logs=None):\n",
        "      keys = list(logs.keys())\n",
        "      if((epoch+1)%20 == 0):\n",
        "        dir = '/content/drive/My Drive/cancer/models/v2/epoch_%d.h5'%epoch\n",
        "        net.save(dir)\n",
        "\n",
        "callback = Callback()"
      ],
      "execution_count": null,
      "outputs": []
    },
    {
      "cell_type": "code",
      "metadata": {
        "id": "HQa_kSm6bTqA"
      },
      "source": [
        "net.compile(optimizer = 'adam', loss = \"binary_crossentropy\", metrics=['accuracy'])"
      ],
      "execution_count": null,
      "outputs": []
    },
    {
      "cell_type": "code",
      "metadata": {
        "id": "yv_u7Fadb0eI"
      },
      "source": [
        "net.fit(traingen, steps_per_epoch=40, epochs= 80, callbacks=[callback])"
      ],
      "execution_count": null,
      "outputs": []
    },
    {
      "cell_type": "code",
      "metadata": {
        "id": "zRhwcw6pbaaC"
      },
      "source": [
        "new = net.save('/content/drive/My Drive/cancer/v3.h5')"
      ],
      "execution_count": null,
      "outputs": []
    },
    {
      "cell_type": "code",
      "metadata": {
        "id": "Rw2RnOLm66Fe"
      },
      "source": [
        "net = load_model('/content/drive/My Drive/cancer/models/v1/v1_acc_8214.h5')"
      ],
      "execution_count": null,
      "outputs": []
    },
    {
      "cell_type": "code",
      "metadata": {
        "id": "xRHDI9YXfJV7"
      },
      "source": [
        "output = []\n",
        "for root,dir,files in os.walk('/content/640x640/test'):\n",
        "  for i,image in enumerate(files):\n",
        "    image_name = image.strip('.jpg')\n",
        "    img =  plt.imread(root+'/'+image)\n",
        "    img = cv2.resize(img,(320, 320)).reshape(1, 320, 320,3)\n",
        "    prediction = modIncep.predict(img/255)\n",
        "    \n",
        "    print(int((i/len(files))*100),image_name, round(prediction[0][0],5))\n",
        "    output.append([image_name,round(prediction[0][0],5)])\n",
        "    # break\n"
      ],
      "execution_count": null,
      "outputs": []
    },
    {
      "cell_type": "code",
      "metadata": {
        "id": "SFeZZqwO6QdL"
      },
      "source": [
        "\n",
        "df = pd.DataFrame(output)"
      ],
      "execution_count": null,
      "outputs": []
    },
    {
      "cell_type": "code",
      "metadata": {
        "id": "3nuZKG9B6wTA"
      },
      "source": [
        "df.to_csv('kagglev21_incep.csv', index=False)"
      ],
      "execution_count": null,
      "outputs": []
    },
    {
      "cell_type": "code",
      "metadata": {
        "id": "bOHuEk0-_eD9",
        "colab": {
          "base_uri": "https://localhost:8080/",
          "height": 34
        },
        "outputId": "baa7c511-bc80-448a-fd3a-bea509b44d6b"
      },
      "source": [
        "#  print the propotion of 1s\n",
        "a = np.array(df[1].values)\n",
        "b = a > 0.5\n",
        "print(np.sum(b)/a.shape[0])"
      ],
      "execution_count": null,
      "outputs": [
        {
          "output_type": "stream",
          "text": [
            "0.18238936441449644\n"
          ],
          "name": "stdout"
        }
      ]
    },
    {
      "cell_type": "markdown",
      "metadata": {
        "id": "4SjfIrBC9e_V"
      },
      "source": [
        "Re training on autoencoder\n"
      ]
    },
    {
      "cell_type": "code",
      "metadata": {
        "id": "LBNhxkrX9l06"
      },
      "source": [
        "encoder = load_model('/content/drive/My Drive/cancer/models/autoencoder/epoch_150.h5')\n",
        "for layer in encoder.layers:\n",
        "  layer.trainable = False"
      ],
      "execution_count": null,
      "outputs": []
    },
    {
      "cell_type": "code",
      "metadata": {
        "id": "RpOpQ9qmKPU9"
      },
      "source": [
        "encoder.summary()"
      ],
      "execution_count": null,
      "outputs": []
    },
    {
      "cell_type": "code",
      "metadata": {
        "id": "p9ILFc5W-Zbw"
      },
      "source": [
        "last_outs = encoder.get_layer('flatten').output\n",
        "x1 = Dense(100, activation='relu', kernel_regularizer= keras.regularizers.l2(1e-5))(last_outs)\n",
        "x1= Dropout(0.2)(x1)\n",
        "\n",
        "x2 = Dense(200, activation='relu', kernel_regularizer= keras.regularizers.l2(1e-5))(x1)\n",
        "x2= Dropout(0.2)(x2)\n",
        "\n",
        "x3 = Dense(200, activation='relu', kernel_regularizer= keras.regularizers.l2(1e-5))(x2)\n",
        "x3= Dropout(0.2)(x3)\n",
        "\n",
        "outs = Dense(1, activation='sigmoid')(x3)\n",
        "model = Model(encoder.input, outs)\n",
        "model.summary()"
      ],
      "execution_count": null,
      "outputs": []
    },
    {
      "cell_type": "code",
      "metadata": {
        "id": "4rHiv44e_yD1"
      },
      "source": [
        "model.compile(optimizer = keras.optimizers.RMSprop(learning_rate=0.001) , loss = \"binary_crossentropy\", metrics=['accuracy'])"
      ],
      "execution_count": null,
      "outputs": []
    },
    {
      "cell_type": "code",
      "metadata": {
        "id": "2886rjQa_02Q"
      },
      "source": [
        "model.fit(traingen, steps_per_epoch=70, epochs= 10)"
      ],
      "execution_count": null,
      "outputs": []
    },
    {
      "cell_type": "code",
      "metadata": {
        "id": "PuuSyZ8XOWld",
        "colab": {
          "base_uri": "https://localhost:8080/",
          "height": 330
        },
        "outputId": "488ec117-a3f1-47df-c8f3-f9f66b8e3965"
      },
      "source": [
        "modIncep.evaluate(traingen)"
      ],
      "execution_count": null,
      "outputs": [
        {
          "output_type": "stream",
          "text": [
            "31/42 [=====================>........] - ETA: 13s - loss: 0.0984 - accuracy: 0.9600"
          ],
          "name": "stdout"
        },
        {
          "output_type": "error",
          "ename": "KeyboardInterrupt",
          "evalue": "ignored",
          "traceback": [
            "\u001b[0;31m---------------------------------------------------------------------------\u001b[0m",
            "\u001b[0;31mKeyboardInterrupt\u001b[0m                         Traceback (most recent call last)",
            "\u001b[0;32m<ipython-input-112-f979613ff81b>\u001b[0m in \u001b[0;36m<module>\u001b[0;34m()\u001b[0m\n\u001b[0;32m----> 1\u001b[0;31m \u001b[0mmodIncep\u001b[0m\u001b[0;34m.\u001b[0m\u001b[0mevaluate\u001b[0m\u001b[0;34m(\u001b[0m\u001b[0mtraingen\u001b[0m\u001b[0;34m)\u001b[0m\u001b[0;34m\u001b[0m\u001b[0;34m\u001b[0m\u001b[0m\n\u001b[0m",
            "\u001b[0;32m/usr/local/lib/python3.6/dist-packages/tensorflow/python/keras/engine/training.py\u001b[0m in \u001b[0;36m_method_wrapper\u001b[0;34m(self, *args, **kwargs)\u001b[0m\n\u001b[1;32m     64\u001b[0m   \u001b[0;32mdef\u001b[0m \u001b[0m_method_wrapper\u001b[0m\u001b[0;34m(\u001b[0m\u001b[0mself\u001b[0m\u001b[0;34m,\u001b[0m \u001b[0;34m*\u001b[0m\u001b[0margs\u001b[0m\u001b[0;34m,\u001b[0m \u001b[0;34m**\u001b[0m\u001b[0mkwargs\u001b[0m\u001b[0;34m)\u001b[0m\u001b[0;34m:\u001b[0m\u001b[0;34m\u001b[0m\u001b[0;34m\u001b[0m\u001b[0m\n\u001b[1;32m     65\u001b[0m     \u001b[0;32mif\u001b[0m \u001b[0;32mnot\u001b[0m \u001b[0mself\u001b[0m\u001b[0;34m.\u001b[0m\u001b[0m_in_multi_worker_mode\u001b[0m\u001b[0;34m(\u001b[0m\u001b[0;34m)\u001b[0m\u001b[0;34m:\u001b[0m  \u001b[0;31m# pylint: disable=protected-access\u001b[0m\u001b[0;34m\u001b[0m\u001b[0;34m\u001b[0m\u001b[0m\n\u001b[0;32m---> 66\u001b[0;31m       \u001b[0;32mreturn\u001b[0m \u001b[0mmethod\u001b[0m\u001b[0;34m(\u001b[0m\u001b[0mself\u001b[0m\u001b[0;34m,\u001b[0m \u001b[0;34m*\u001b[0m\u001b[0margs\u001b[0m\u001b[0;34m,\u001b[0m \u001b[0;34m**\u001b[0m\u001b[0mkwargs\u001b[0m\u001b[0;34m)\u001b[0m\u001b[0;34m\u001b[0m\u001b[0;34m\u001b[0m\u001b[0m\n\u001b[0m\u001b[1;32m     67\u001b[0m \u001b[0;34m\u001b[0m\u001b[0m\n\u001b[1;32m     68\u001b[0m     \u001b[0;31m# Running inside `run_distribute_coordinator` already.\u001b[0m\u001b[0;34m\u001b[0m\u001b[0;34m\u001b[0m\u001b[0;34m\u001b[0m\u001b[0m\n",
            "\u001b[0;32m/usr/local/lib/python3.6/dist-packages/tensorflow/python/keras/engine/training.py\u001b[0m in \u001b[0;36mevaluate\u001b[0;34m(self, x, y, batch_size, verbose, sample_weight, steps, callbacks, max_queue_size, workers, use_multiprocessing, return_dict)\u001b[0m\n\u001b[1;32m   1079\u001b[0m                 step_num=step):\n\u001b[1;32m   1080\u001b[0m               \u001b[0mcallbacks\u001b[0m\u001b[0;34m.\u001b[0m\u001b[0mon_test_batch_begin\u001b[0m\u001b[0;34m(\u001b[0m\u001b[0mstep\u001b[0m\u001b[0;34m)\u001b[0m\u001b[0;34m\u001b[0m\u001b[0;34m\u001b[0m\u001b[0m\n\u001b[0;32m-> 1081\u001b[0;31m               \u001b[0mtmp_logs\u001b[0m \u001b[0;34m=\u001b[0m \u001b[0mtest_function\u001b[0m\u001b[0;34m(\u001b[0m\u001b[0miterator\u001b[0m\u001b[0;34m)\u001b[0m\u001b[0;34m\u001b[0m\u001b[0;34m\u001b[0m\u001b[0m\n\u001b[0m\u001b[1;32m   1082\u001b[0m               \u001b[0;31m# Catch OutOfRangeError for Datasets of unknown size.\u001b[0m\u001b[0;34m\u001b[0m\u001b[0;34m\u001b[0m\u001b[0;34m\u001b[0m\u001b[0m\n\u001b[1;32m   1083\u001b[0m               \u001b[0;31m# This blocks until the batch has finished executing.\u001b[0m\u001b[0;34m\u001b[0m\u001b[0;34m\u001b[0m\u001b[0;34m\u001b[0m\u001b[0m\n",
            "\u001b[0;32m/usr/local/lib/python3.6/dist-packages/tensorflow/python/eager/def_function.py\u001b[0m in \u001b[0;36m__call__\u001b[0;34m(self, *args, **kwds)\u001b[0m\n\u001b[1;32m    578\u001b[0m         \u001b[0mxla_context\u001b[0m\u001b[0;34m.\u001b[0m\u001b[0mExit\u001b[0m\u001b[0;34m(\u001b[0m\u001b[0;34m)\u001b[0m\u001b[0;34m\u001b[0m\u001b[0;34m\u001b[0m\u001b[0m\n\u001b[1;32m    579\u001b[0m     \u001b[0;32melse\u001b[0m\u001b[0;34m:\u001b[0m\u001b[0;34m\u001b[0m\u001b[0;34m\u001b[0m\u001b[0m\n\u001b[0;32m--> 580\u001b[0;31m       \u001b[0mresult\u001b[0m \u001b[0;34m=\u001b[0m \u001b[0mself\u001b[0m\u001b[0;34m.\u001b[0m\u001b[0m_call\u001b[0m\u001b[0;34m(\u001b[0m\u001b[0;34m*\u001b[0m\u001b[0margs\u001b[0m\u001b[0;34m,\u001b[0m \u001b[0;34m**\u001b[0m\u001b[0mkwds\u001b[0m\u001b[0;34m)\u001b[0m\u001b[0;34m\u001b[0m\u001b[0;34m\u001b[0m\u001b[0m\n\u001b[0m\u001b[1;32m    581\u001b[0m \u001b[0;34m\u001b[0m\u001b[0m\n\u001b[1;32m    582\u001b[0m     \u001b[0;32mif\u001b[0m \u001b[0mtracing_count\u001b[0m \u001b[0;34m==\u001b[0m \u001b[0mself\u001b[0m\u001b[0;34m.\u001b[0m\u001b[0m_get_tracing_count\u001b[0m\u001b[0;34m(\u001b[0m\u001b[0;34m)\u001b[0m\u001b[0;34m:\u001b[0m\u001b[0;34m\u001b[0m\u001b[0;34m\u001b[0m\u001b[0m\n",
            "\u001b[0;32m/usr/local/lib/python3.6/dist-packages/tensorflow/python/eager/def_function.py\u001b[0m in \u001b[0;36m_call\u001b[0;34m(self, *args, **kwds)\u001b[0m\n\u001b[1;32m    616\u001b[0m       \u001b[0;31m# In this case we have not created variables on the first call. So we can\u001b[0m\u001b[0;34m\u001b[0m\u001b[0;34m\u001b[0m\u001b[0;34m\u001b[0m\u001b[0m\n\u001b[1;32m    617\u001b[0m       \u001b[0;31m# run the first trace but we should fail if variables are created.\u001b[0m\u001b[0;34m\u001b[0m\u001b[0;34m\u001b[0m\u001b[0;34m\u001b[0m\u001b[0m\n\u001b[0;32m--> 618\u001b[0;31m       \u001b[0mresults\u001b[0m \u001b[0;34m=\u001b[0m \u001b[0mself\u001b[0m\u001b[0;34m.\u001b[0m\u001b[0m_stateful_fn\u001b[0m\u001b[0;34m(\u001b[0m\u001b[0;34m*\u001b[0m\u001b[0margs\u001b[0m\u001b[0;34m,\u001b[0m \u001b[0;34m**\u001b[0m\u001b[0mkwds\u001b[0m\u001b[0;34m)\u001b[0m\u001b[0;34m\u001b[0m\u001b[0;34m\u001b[0m\u001b[0m\n\u001b[0m\u001b[1;32m    619\u001b[0m       \u001b[0;32mif\u001b[0m \u001b[0mself\u001b[0m\u001b[0;34m.\u001b[0m\u001b[0m_created_variables\u001b[0m\u001b[0;34m:\u001b[0m\u001b[0;34m\u001b[0m\u001b[0;34m\u001b[0m\u001b[0m\n\u001b[1;32m    620\u001b[0m         raise ValueError(\"Creating variables on a non-first call to a function\"\n",
            "\u001b[0;32m/usr/local/lib/python3.6/dist-packages/tensorflow/python/eager/function.py\u001b[0m in \u001b[0;36m__call__\u001b[0;34m(self, *args, **kwargs)\u001b[0m\n\u001b[1;32m   2418\u001b[0m     \u001b[0;32mwith\u001b[0m \u001b[0mself\u001b[0m\u001b[0;34m.\u001b[0m\u001b[0m_lock\u001b[0m\u001b[0;34m:\u001b[0m\u001b[0;34m\u001b[0m\u001b[0;34m\u001b[0m\u001b[0m\n\u001b[1;32m   2419\u001b[0m       \u001b[0mgraph_function\u001b[0m\u001b[0;34m,\u001b[0m \u001b[0margs\u001b[0m\u001b[0;34m,\u001b[0m \u001b[0mkwargs\u001b[0m \u001b[0;34m=\u001b[0m \u001b[0mself\u001b[0m\u001b[0;34m.\u001b[0m\u001b[0m_maybe_define_function\u001b[0m\u001b[0;34m(\u001b[0m\u001b[0margs\u001b[0m\u001b[0;34m,\u001b[0m \u001b[0mkwargs\u001b[0m\u001b[0;34m)\u001b[0m\u001b[0;34m\u001b[0m\u001b[0;34m\u001b[0m\u001b[0m\n\u001b[0;32m-> 2420\u001b[0;31m     \u001b[0;32mreturn\u001b[0m \u001b[0mgraph_function\u001b[0m\u001b[0;34m.\u001b[0m\u001b[0m_filtered_call\u001b[0m\u001b[0;34m(\u001b[0m\u001b[0margs\u001b[0m\u001b[0;34m,\u001b[0m \u001b[0mkwargs\u001b[0m\u001b[0;34m)\u001b[0m  \u001b[0;31m# pylint: disable=protected-access\u001b[0m\u001b[0;34m\u001b[0m\u001b[0;34m\u001b[0m\u001b[0m\n\u001b[0m\u001b[1;32m   2421\u001b[0m \u001b[0;34m\u001b[0m\u001b[0m\n\u001b[1;32m   2422\u001b[0m   \u001b[0;34m@\u001b[0m\u001b[0mproperty\u001b[0m\u001b[0;34m\u001b[0m\u001b[0;34m\u001b[0m\u001b[0m\n",
            "\u001b[0;32m/usr/local/lib/python3.6/dist-packages/tensorflow/python/eager/function.py\u001b[0m in \u001b[0;36m_filtered_call\u001b[0;34m(self, args, kwargs)\u001b[0m\n\u001b[1;32m   1663\u001b[0m          if isinstance(t, (ops.Tensor,\n\u001b[1;32m   1664\u001b[0m                            resource_variable_ops.BaseResourceVariable))),\n\u001b[0;32m-> 1665\u001b[0;31m         self.captured_inputs)\n\u001b[0m\u001b[1;32m   1666\u001b[0m \u001b[0;34m\u001b[0m\u001b[0m\n\u001b[1;32m   1667\u001b[0m   \u001b[0;32mdef\u001b[0m \u001b[0m_call_flat\u001b[0m\u001b[0;34m(\u001b[0m\u001b[0mself\u001b[0m\u001b[0;34m,\u001b[0m \u001b[0margs\u001b[0m\u001b[0;34m,\u001b[0m \u001b[0mcaptured_inputs\u001b[0m\u001b[0;34m,\u001b[0m \u001b[0mcancellation_manager\u001b[0m\u001b[0;34m=\u001b[0m\u001b[0;32mNone\u001b[0m\u001b[0;34m)\u001b[0m\u001b[0;34m:\u001b[0m\u001b[0;34m\u001b[0m\u001b[0;34m\u001b[0m\u001b[0m\n",
            "\u001b[0;32m/usr/local/lib/python3.6/dist-packages/tensorflow/python/eager/function.py\u001b[0m in \u001b[0;36m_call_flat\u001b[0;34m(self, args, captured_inputs, cancellation_manager)\u001b[0m\n\u001b[1;32m   1744\u001b[0m       \u001b[0;31m# No tape is watching; skip to running the function.\u001b[0m\u001b[0;34m\u001b[0m\u001b[0;34m\u001b[0m\u001b[0;34m\u001b[0m\u001b[0m\n\u001b[1;32m   1745\u001b[0m       return self._build_call_outputs(self._inference_function.call(\n\u001b[0;32m-> 1746\u001b[0;31m           ctx, args, cancellation_manager=cancellation_manager))\n\u001b[0m\u001b[1;32m   1747\u001b[0m     forward_backward = self._select_forward_and_backward_functions(\n\u001b[1;32m   1748\u001b[0m         \u001b[0margs\u001b[0m\u001b[0;34m,\u001b[0m\u001b[0;34m\u001b[0m\u001b[0;34m\u001b[0m\u001b[0m\n",
            "\u001b[0;32m/usr/local/lib/python3.6/dist-packages/tensorflow/python/eager/function.py\u001b[0m in \u001b[0;36mcall\u001b[0;34m(self, ctx, args, cancellation_manager)\u001b[0m\n\u001b[1;32m    596\u001b[0m               \u001b[0minputs\u001b[0m\u001b[0;34m=\u001b[0m\u001b[0margs\u001b[0m\u001b[0;34m,\u001b[0m\u001b[0;34m\u001b[0m\u001b[0;34m\u001b[0m\u001b[0m\n\u001b[1;32m    597\u001b[0m               \u001b[0mattrs\u001b[0m\u001b[0;34m=\u001b[0m\u001b[0mattrs\u001b[0m\u001b[0;34m,\u001b[0m\u001b[0;34m\u001b[0m\u001b[0;34m\u001b[0m\u001b[0m\n\u001b[0;32m--> 598\u001b[0;31m               ctx=ctx)\n\u001b[0m\u001b[1;32m    599\u001b[0m         \u001b[0;32melse\u001b[0m\u001b[0;34m:\u001b[0m\u001b[0;34m\u001b[0m\u001b[0;34m\u001b[0m\u001b[0m\n\u001b[1;32m    600\u001b[0m           outputs = execute.execute_with_cancellation(\n",
            "\u001b[0;32m/usr/local/lib/python3.6/dist-packages/tensorflow/python/eager/execute.py\u001b[0m in \u001b[0;36mquick_execute\u001b[0;34m(op_name, num_outputs, inputs, attrs, ctx, name)\u001b[0m\n\u001b[1;32m     58\u001b[0m     \u001b[0mctx\u001b[0m\u001b[0;34m.\u001b[0m\u001b[0mensure_initialized\u001b[0m\u001b[0;34m(\u001b[0m\u001b[0;34m)\u001b[0m\u001b[0;34m\u001b[0m\u001b[0;34m\u001b[0m\u001b[0m\n\u001b[1;32m     59\u001b[0m     tensors = pywrap_tfe.TFE_Py_Execute(ctx._handle, device_name, op_name,\n\u001b[0;32m---> 60\u001b[0;31m                                         inputs, attrs, num_outputs)\n\u001b[0m\u001b[1;32m     61\u001b[0m   \u001b[0;32mexcept\u001b[0m \u001b[0mcore\u001b[0m\u001b[0;34m.\u001b[0m\u001b[0m_NotOkStatusException\u001b[0m \u001b[0;32mas\u001b[0m \u001b[0me\u001b[0m\u001b[0;34m:\u001b[0m\u001b[0;34m\u001b[0m\u001b[0;34m\u001b[0m\u001b[0m\n\u001b[1;32m     62\u001b[0m     \u001b[0;32mif\u001b[0m \u001b[0mname\u001b[0m \u001b[0;32mis\u001b[0m \u001b[0;32mnot\u001b[0m \u001b[0;32mNone\u001b[0m\u001b[0;34m:\u001b[0m\u001b[0;34m\u001b[0m\u001b[0;34m\u001b[0m\u001b[0m\n",
            "\u001b[0;31mKeyboardInterrupt\u001b[0m: "
          ]
        }
      ]
    },
    {
      "cell_type": "code",
      "metadata": {
        "id": "jS_zkUeC98P1",
        "colab": {
          "base_uri": "https://localhost:8080/",
          "height": 124
        },
        "outputId": "0a5c7621-bad3-4d22-b331-18452109ef19"
      },
      "source": [
        "from google.colab import drive\n",
        "drive.mount('/content/drive')"
      ],
      "execution_count": null,
      "outputs": [
        {
          "output_type": "stream",
          "text": [
            "Go to this URL in a browser: https://accounts.google.com/o/oauth2/auth?client_id=947318989803-6bn6qk8qdgf4n4g3pfee6491hc0brc4i.apps.googleusercontent.com&redirect_uri=urn%3aietf%3awg%3aoauth%3a2.0%3aoob&response_type=code&scope=email%20https%3a%2f%2fwww.googleapis.com%2fauth%2fdocs.test%20https%3a%2f%2fwww.googleapis.com%2fauth%2fdrive%20https%3a%2f%2fwww.googleapis.com%2fauth%2fdrive.photos.readonly%20https%3a%2f%2fwww.googleapis.com%2fauth%2fpeopleapi.readonly\n",
            "\n",
            "Enter your authorization code:\n",
            "··········\n",
            "Mounted at /content/drive\n"
          ],
          "name": "stdout"
        }
      ]
    },
    {
      "cell_type": "markdown",
      "metadata": {
        "id": "NGh_kLDo0CEC"
      },
      "source": [
        "Training on  VGG"
      ]
    },
    {
      "cell_type": "code",
      "metadata": {
        "id": "xnakae_Y1Vwx",
        "colab": {
          "base_uri": "https://localhost:8080/",
          "height": 52
        },
        "outputId": "8c34b00d-1e50-4f79-a5df-f5afcf1a6182"
      },
      "source": [
        "from tensorflow.keras.applications.inception_v3 import InceptionV3\n",
        "\n",
        "incep = InceptionV3()"
      ],
      "execution_count": null,
      "outputs": [
        {
          "output_type": "stream",
          "text": [
            "Downloading data from https://storage.googleapis.com/tensorflow/keras-applications/inception_v3/inception_v3_weights_tf_dim_ordering_tf_kernels.h5\n",
            "96116736/96112376 [==============================] - 2s 0us/step\n"
          ],
          "name": "stdout"
        }
      ]
    },
    {
      "cell_type": "code",
      "metadata": {
        "id": "ePF1AVgf1bXk"
      },
      "source": [
        "incep.summary()"
      ],
      "execution_count": null,
      "outputs": []
    },
    {
      "cell_type": "code",
      "metadata": {
        "id": "hgggtUpi1mfO"
      },
      "source": [
        "for layer in incep.layers:\n",
        "  layer.trainable = False\n",
        "\n",
        "break_layer_out = incep.get_layer('mixed8').output"
      ],
      "execution_count": null,
      "outputs": []
    },
    {
      "cell_type": "code",
      "metadata": {
        "id": "Ekn7kjCRrfAi"
      },
      "source": [
        "x2 = Flatten()(break_layer_out)\n",
        "\n",
        "x2 = Dense(128, activation='relu')(x2)\n",
        "x2= Dropout(0.3)(x2)\n",
        "\n",
        "# x2 = Dense(256, activation='relu')(x2)\n",
        "# x2= Dropout(0.1)(x2)\n",
        "\n",
        "# x2 = Dense(256, activation='relu')(x2)\n",
        "# x2= Dropout(0.1)(x2)\n",
        "\n",
        "out = Dense(1, activation='sigmoid')(x2)\n",
        "\n",
        "modIncep = Model(incep.input, out)\n",
        "modIncep.summary()"
      ],
      "execution_count": null,
      "outputs": []
    },
    {
      "cell_type": "code",
      "metadata": {
        "id": "h0BwqRm859Hk"
      },
      "source": [
        "modIncep.compile(optimizer = 'adam', loss = \"binary_crossentropy\", metrics=['accuracy'])"
      ],
      "execution_count": null,
      "outputs": []
    },
    {
      "cell_type": "code",
      "metadata": {
        "id": "ULG041_TtBtG"
      },
      "source": [
        "modIncep.fit(traingen, steps_per_epoch=40, epochs= 100)"
      ],
      "execution_count": null,
      "outputs": []
    },
    {
      "cell_type": "code",
      "metadata": {
        "id": "b_zpNcW0tSHW"
      },
      "source": [
        "modIncep.save('/content/drive/My Drive/cancer/acc_94.h5')"
      ],
      "execution_count": null,
      "outputs": []
    },
    {
      "cell_type": "code",
      "metadata": {
        "id": "DHQq7_7Q2mef"
      },
      "source": [
        "for i in range(3,100,4):\n",
        "  print(\"{memory_array[10'd%d], memory_array[10'd%d], memory_array[10'd%d], memory_array[10'd%d]}\"%(i,i-1,i-2,i-3))"
      ],
      "execution_count": null,
      "outputs": []
    },
    {
      "cell_type": "code",
      "metadata": {
        "id": "1UjCBkcWYHJV"
      },
      "source": [
        ""
      ],
      "execution_count": null,
      "outputs": []
    }
  ]
}